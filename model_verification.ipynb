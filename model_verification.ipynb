{
 "cells": [
  {
   "cell_type": "markdown",
   "metadata": {},
   "source": [
    "# Algoritmo de Inferencia por Verificacion de Modelos\n",
    "\n",
    "----\n",
    "\n",
    "Anteriormente, ya hemos estudiado la estructura general de un agente lógico y como\n",
    "podemos realizar la construcción del conocimiento a medida que el agente toma\n",
    "diferentes percepciones en el espacio.\n",
    "\n",
    "El objetivo de este problema es implementar la inferencia lógica del agente del mundo de\n",
    "Wumpus con el fin de concluir que no hay un hoyo en la casilla [1,2]"
   ]
  },
  {
   "cell_type": "markdown",
   "metadata": {},
   "source": [
    "### Conocimiento Base\n",
    "\n",
    "Almacena las sentencias del agente, permite hacer queries de acciones o perceptos realizados"
   ]
  },
  {
   "cell_type": "code",
   "execution_count": null,
   "metadata": {},
   "outputs": [],
   "source": [
    "class BaseKnowledge:\n",
    "    def __init__(self):\n",
    "        self.sentences = []\n",
    "\n",
    "    def tell(self, sentence: str):\n",
    "        \"\"\"Stores a proposition in the knowledge base.\"\"\"\n",
    "        self.sentences.append(sentence)\n",
    "\n",
    "    def ask(self, query: str) -> str | None:\n",
    "        \"\"\"Returns the most recent proposition that matches the query.\"\"\"\n",
    "        for sentence in reversed(self.sentences):\n",
    "            if query in sentence:\n",
    "                return sentence\n",
    "\n",
    "    def __str__(self) -> str:\n",
    "        return 'Sentences:\\n' + '\\n'.join(self.sentences)"
   ]
  },
  {
   "cell_type": "markdown",
   "metadata": {},
   "source": [
    "### Funciones\n",
    "\n",
    "`TT_Entails` es la funcion principal que ejecuta la verificacion\n",
    "\n",
    "`TT_Check_All` Itera recursivamente sobre todos los simbolos para cubrir todas las combinaciones de la tabla de verdad de la proposicion\n",
    "\n",
    "`PL_True_KB` Verifica que todas las proposiciones añadidas en el conocimiento base son verdaderas\n",
    "\n",
    "`PL_True` Evalua la proposicion dada dado un modelo (el modelo es dado por TT_Check_All en cada iteracion), separando cada lado de cada operacion logica hasta que se evalue toda la proposicion\n",
    "\n",
    "`extract_symbols` Extrae todos los simbolos presentes tanto en el conocimiento base como en la proposicion que se esta verificando"
   ]
  },
  {
   "cell_type": "code",
   "execution_count": null,
   "metadata": {},
   "outputs": [],
   "source": [
    "def TT_Entails(KB, alpha):\n",
    "    \"\"\"Checks if KB entails alpha using model checking.\"\"\"\n",
    "    symbols = extract_symbols(KB, alpha)\n",
    "    return TT_Check_All(KB, alpha, symbols, {})\n",
    "\n",
    "def TT_Check_All(KB, alpha, symbols, model):\n",
    "    if not symbols:\n",
    "        if PL_True_KB(KB, model):\n",
    "            return PL_True(alpha, model)\n",
    "        else:\n",
    "            return True\n",
    "    else:\n",
    "        P = symbols[0]\n",
    "        rest = symbols[1:]\n",
    "        return (TT_Check_All(KB, alpha, rest, {**model, P: True}) and\n",
    "                TT_Check_All(KB, alpha, rest, {**model, P: False}))\n",
    "\n",
    "def PL_True_KB(KB, model):\n",
    "    \"\"\"Evaluates if all propositions in the KB are true in a model.\"\"\"\n",
    "    for sentence in KB.sentences:\n",
    "        if not PL_True(sentence, model):\n",
    "            return False\n",
    "    return True\n",
    "\n",
    "def PL_True(sentence, model):\n",
    "    \"\"\"Evaluates if a proposition is true in a given model.\"\"\"\n",
    "    if '↔' in sentence:\n",
    "        left, right = sentence.split('↔')\n",
    "        return PL_True(left.strip(), model) == PL_True(right.strip(), model)\n",
    "    elif '∨' in sentence:\n",
    "        disjuncts = sentence.split('∨')\n",
    "        return any(PL_True(d.strip(), model) for d in disjuncts)\n",
    "    elif '∧' in sentence:\n",
    "        conjuncts = sentence.split('∧')\n",
    "        return all(PL_True(c.strip(), model) for c in conjuncts)\n",
    "    elif '¬' in sentence:\n",
    "        prop = sentence.replace('¬', '').strip()\n",
    "        return not model.get(prop, False)\n",
    "    else:\n",
    "        return model.get(sentence.strip(), False)\n",
    "\n",
    "def extract_symbols(KB, alpha):\n",
    "    \"\"\"Extracts the propositional symbols from the KB and the query.\"\"\"\n",
    "    symbols = set()\n",
    "    for sentence in KB.sentences:\n",
    "        symbols.update(sentence.replace('¬', '').replace('∧', '').replace('∨', '').split())\n",
    "    symbols.update(alpha.replace('¬', '').replace('∧', '').replace('∨', '').split())\n",
    "    return list(symbols)"
   ]
  },
  {
   "cell_type": "markdown",
   "metadata": {},
   "source": [
    "### Main"
   ]
  },
  {
   "cell_type": "code",
   "execution_count": null,
   "metadata": {},
   "outputs": [],
   "source": [
    "kb = BaseKnowledge()\n",
    "kb.tell('¬P1,1')  # No Pit on (1,1)\n",
    "kb.tell('B1,1 ↔ (P1,2 ∨ P2,1)')  # Breeze in (1,1) implies Pit en (1,2) o (2,1)\n",
    "kb.tell('B2,1 ↔ (P1,1 ∨ P2,2 ∨ P3,1)')  # Breeze in (2,1) implies Pit in (1,1), (2,2) o (3,1)\n",
    "\n",
    "# Update the KB with perceptions\n",
    "percepts = ['¬B1,1', '¬B1,2']\n",
    "for percept in percepts:\n",
    "    kb.tell(percept)\n",
    "\n",
    "# Update the KB with additional inferences\n",
    "if '¬B1,1' in kb.sentences:\n",
    "    kb.tell('¬P1,2')\n",
    "    kb.tell('¬P2,1')\n",
    "\n",
    "# Query if it's true that there's no Pit in (1,2)\n",
    "query = '¬P1,2'\n",
    "if TT_Entails(kb, query):\n",
    "    print(f\"Se infiere que {query} es verdadero.\")\n",
    "    kb.tell(query)\n",
    "else:\n",
    "    print(f\"No se puede inferir que {query} sea verdadero.\")\n",
    "print(kb)"
   ]
  }
 ],
 "metadata": {
  "kernelspec": {
   "display_name": "base",
   "language": "python",
   "name": "python3"
  },
  "language_info": {
   "name": "python",
   "version": "3.12.2"
  }
 },
 "nbformat": 4,
 "nbformat_minor": 2
}
