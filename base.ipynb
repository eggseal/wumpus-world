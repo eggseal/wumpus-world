{
  "nbformat": 4,
  "nbformat_minor": 0,
  "metadata": {
    "colab": {
      "provenance": []
    },
    "kernelspec": {
      "name": "python3",
      "display_name": "Python 3"
    },
    "language_info": {
      "name": "python"
    }
  },
  "cells": [
    {
      "cell_type": "code",
      "source": [
        "class KnowledgeBase:\n",
        "    def __init__(self):\n",
        "        self.sentences = []\n",
        "\n",
        "    def tell(self, sentence):\n",
        "        #Añadir un axioma (una oración) a la base de conocimiento.\n",
        "        self.sentences.append(sentence)\n",
        "\n",
        "    def ask(self, query):\n",
        "        #Realizar una consulta sobre la base de conocimiento.\n",
        "        return query in self.sentences\n",
        "\n",
        "class KBAgent:\n",
        "    def __init__(self):\n",
        "        self.KB = KnowledgeBase()\n",
        "        self.time = 0\n",
        "\n",
        "    def make_percept_sentence(self, percept, time):\n",
        "        #Crear una oración basada en la percepción actual.\n",
        "        return f\"At time {time}, perceive {percept}\"\n",
        "\n",
        "    def make_action_query(self, time):\n",
        "        #Consulta para decidir la acción a tomar.\n",
        "        return f\"At time {time}, what action should be taken?\"\n",
        "\n",
        "    def make_action_sentence(self, action, time):\n",
        "        #Crear una oración basada en la acción tomada.\n",
        "        return f\"At time {time}, performed {action}\"\n",
        "\n",
        "    def act(self, percept):\n",
        "        # Agregar la percepción a la base de conocimiento\n",
        "        percept_sentence = self.make_percept_sentence(percept, self.time)\n",
        "        self.KB.tell(percept_sentence)\n",
        "\n",
        "        # Consultar la acción a realizar basada en la KB\n",
        "        action_query = self.make_action_query(self.time)\n",
        "        action = \"Move to Room B\" if percept == \"Room B is dirty\" else \"Stay in Room A\"\n",
        "\n",
        "        # Actualizar la base de conocimiento con la acción decidida\n",
        "        action_sentence = self.make_action_sentence(action, self.time)\n",
        "        self.KB.tell(action_sentence)\n",
        "\n",
        "        # Avanzar en el tiempo\n",
        "        self.time += 1\n",
        "\n",
        "        return action\n",
        "\n",
        "# Crear el agente y agregar axiomas básicos al conocimiento base\n",
        "agent = KBAgent()\n",
        "agent.KB.tell(\"Room A is clean\")\n",
        "agent.KB.tell(\"Room B is dirty\")\n",
        "\n",
        "# Simular la percepción del agente y actuar\n",
        "percept = \"Room B is dirty\"\n",
        "action = agent.act(percept)\n",
        "print(f\"Action taken: {action}\")\n",
        "\n",
        "# Ver el contenido del conocimiento base después de la acción\n",
        "print(\"\\nKnowledge Base:\")\n",
        "for sentence in agent.KB.sentences:\n",
        "    print(sentence)\n"
      ],
      "metadata": {
        "colab": {
          "base_uri": "https://localhost:8080/"
        },
        "id": "DPoFofVK19AM",
        "outputId": "9dc164b7-e818-4301-dfc4-2cddb6e8cc2e"
      },
      "execution_count": null,
      "outputs": [
        {
          "output_type": "stream",
          "name": "stdout",
          "text": [
            "Action taken: Move to Room B\n",
            "\n",
            "Knowledge Base:\n",
            "Room A is clean\n",
            "Room B is dirty\n",
            "At time 0, perceive Room B is dirty\n",
            "At time 0, performed Move to Room B\n"
          ]
        }
      ]
    },
    {
      "cell_type": "code",
      "source": [
        "# Inicialización de la base de conocimiento\n",
        "knowledge_base = [\n",
        "    \"If room is clean then do nothing\",\n",
        "    \"If room is dirty then clean the room\",\n",
        "    \"If room is empty then move to next room\"\n",
        "]\n",
        "t = 0  # Contador de tiempo\n",
        "\n",
        "# Función para añadir información a la base de conocimiento\n",
        "def tell(kb, sentence):\n",
        "    kb.append(sentence)\n",
        "\n",
        "# Función para realizar consultas a la base de conocimiento\n",
        "def ask(kb, query):\n",
        "    # Busca en la base de conocimiento una acción relacionada con la consulta\n",
        "    for sentence in kb:\n",
        "        if query in sentence:\n",
        "            return sentence.split(\" then \")[1]\n",
        "    return None\n",
        "\n",
        "# Función que convierte la percepción en una oración para añadir a la base de conocimiento\n",
        "def make_percept_sentence(percept, t):\n",
        "    return f\"At time {t}, perceive {percept}\"\n",
        "\n",
        "# Función que genera una consulta sobre qué acción tomar\n",
        "def make_action_query(percept):\n",
        "    return f\"If {percept}\"\n",
        "\n",
        "# Función que genera una oración sobre la acción tomada y la añade a la base de conocimiento\n",
        "def make_action_sentence(action, t):\n",
        "    return f\"At time {t}, take action {action}\"\n",
        "\n",
        "# Función KB-AGENT\n",
        "def kb_agent(percept, kb, t):\n",
        "    tell(kb, make_percept_sentence(percept, t))  # Añadir la percepción a la base de conocimiento\n",
        "    action = ask(kb, make_action_query(percept))  # Consulta sobre qué acción tomar\n",
        "    if action is None:\n",
        "        action = \"do nothing\"  # Si no se encuentra una acción, toma una acción por defecto\n",
        "    tell(kb, make_action_sentence(action, t))  # Registra la acción tomada\n",
        "    t += 1  # Incrementa el contador de tiempo\n",
        "    return action, t\n",
        "\n",
        "# Ejemplo de uso del agente\n",
        "perception = \"room is dirty\"\n",
        "action, t = kb_agent(perception, knowledge_base, t)\n",
        "print(\"Acción tomada:\", action)\n",
        "print(\"Base de conocimiento actualizada:\", knowledge_base)\n",
        "\n",
        "# Otro ejemplo con una percepción diferente\n",
        "perception = \"room is clean\"\n",
        "action, t = kb_agent(perception, knowledge_base, t)\n",
        "print(\"Acción tomada:\", action)\n",
        "print(\"Base de conocimiento actualizada:\", knowledge_base)\n",
        "\n",
        "# Un tercer ejemplo con una percepción nueva\n",
        "perception = \"room is empty\"\n",
        "action, t = kb_agent(perception, knowledge_base, t)\n",
        "print(\"Acción tomada:\", action)\n",
        "print(\"Base de conocimiento actualizada:\", knowledge_base)\n"
      ],
      "metadata": {
        "colab": {
          "base_uri": "https://localhost:8080/"
        },
        "id": "g01ZaVy9VkEm",
        "outputId": "5f2d9212-b7f9-4de1-e7b3-bba0a562b6b4"
      },
      "execution_count": null,
      "outputs": [
        {
          "output_type": "stream",
          "name": "stdout",
          "text": [
            "Acción tomada: clean the room\n",
            "Base de conocimiento actualizada: ['If room is clean then do nothing', 'If room is dirty then clean the room', 'If room is empty then move to next room', 'At time 0, perceive room is dirty', 'At time 0, take action clean the room']\n",
            "Acción tomada: do nothing\n",
            "Base de conocimiento actualizada: ['If room is clean then do nothing', 'If room is dirty then clean the room', 'If room is empty then move to next room', 'At time 0, perceive room is dirty', 'At time 0, take action clean the room', 'At time 1, perceive room is clean', 'At time 1, take action do nothing']\n",
            "Acción tomada: move to next room\n",
            "Base de conocimiento actualizada: ['If room is clean then do nothing', 'If room is dirty then clean the room', 'If room is empty then move to next room', 'At time 0, perceive room is dirty', 'At time 0, take action clean the room', 'At time 1, perceive room is clean', 'At time 1, take action do nothing', 'At time 2, perceive room is empty', 'At time 2, take action move to next room']\n"
          ]
        }
      ]
    },
    {
      "cell_type": "code",
      "source": [],
      "metadata": {
        "colab": {
          "base_uri": "https://localhost:8080/"
        },
        "id": "-bjIQ13_gzrB",
        "outputId": "7ee4e535-21cf-4a77-c163-6b76f796a915"
      },
      "execution_count": null,
      "outputs": [
        {
          "output_type": "stream",
          "name": "stdout",
          "text": [
            "move to next room\n"
          ]
        }
      ]
    }
  ]
}