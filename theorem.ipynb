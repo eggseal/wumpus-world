{
 "cells": [
  {
   "cell_type": "markdown",
   "metadata": {},
   "source": [
    "# Algoritmo de Inferencia por Aplicacion de Teoremas\n",
    "----\n",
    "\n",
    "### Inferencia por Modus Ponens\n",
    "\n",
    "Vamos a inferir una acción basada en condiciones previas usando la regla Modus Ponens. Suponemos que el agente está en una posición en la que percibe Hedor `WumpusAhead` y percibe los gritos de muerte `WumpusAlive`, y si se cumplen ambas condiciones, la acción es Shoot.\n",
    "\n",
    "1. Define los parametros de la función que te entregará la inferencia\n",
    "2. Utiliza la regla de inferencia Modus Ponens para inferir la acción Shoot si ambas proposiciones son verdaderas."
   ]
  },
  {
   "cell_type": "code",
   "execution_count": null,
   "metadata": {},
   "outputs": [],
   "source": [
    "def modus_ponens(p: bool, impl: bool) -> bool:\n",
    "    \"\"\"If P implies Q and P is true, then Q must be true\"\"\"\n",
    "    return impl and p\n",
    "\n",
    "# Suppositions\n",
    "WumpusAhead = True\n",
    "WumpusAlive = True\n",
    "\n",
    "# Evaluate both suppositions as P on Modus Ponens \n",
    "shoot = modus_ponens(WumpusAhead and WumpusAlive, True)  # Define the parameters\n",
    "print('La acción inferida es:', 'Disparar' if shoot else 'No disparar')"
   ]
  },
  {
   "cell_type": "markdown",
   "metadata": {},
   "source": [
    "### Verificación de Equivalencias Lógicas\n",
    "\n",
    "Vamos a aplicar una de las equivalencias lógicas de la tabla. En este caso, vamos a verificar una equivalencia de Morgan: $\\neg(\\alpha\\land\\beta)\\iff(\\neg\\alpha\\lor\\neg\\beta)$\n"
   ]
  },
  {
   "cell_type": "code",
   "execution_count": null,
   "metadata": {},
   "outputs": [],
   "source": [
    "def de_morgan_law(p: bool, q: bool) -> bool:\n",
    "    \"\"\"The negation of P and Q is equivalent to the negation of P or the negation of Q\"\"\"\n",
    "    original = not (p and q)\n",
    "    equivalent = (not p) and (not q)\n",
    "    # Check their equivalence\n",
    "    return original == equivalent\n",
    "\n",
    "# Suppositions\n",
    "B21 = True\n",
    "P22 = False\n",
    "\n",
    "# Verify the equivalence\n",
    "is_equivalent = de_morgan_law(B21, P22)\n",
    "print(f\"Las expresiones son equivalentes: {is_equivalent}\")"
   ]
  },
  {
   "cell_type": "markdown",
   "metadata": {},
   "source": [
    "### Verificación de Satisfacibilidad\n",
    "\n",
    "Vamos a verificar si una proposición compleja en el mundo de Wumpus es satisfacible, es decir, si existe algún modelo en el que sea verdadera. Considera una proposición como $(B_{21} \\land \\neg P_{22})$"
   ]
  },
  {
   "cell_type": "code",
   "execution_count": null,
   "metadata": {},
   "outputs": [],
   "source": [
    "import re\n",
    "\n",
    "def is_satisfiable(proposition: str, model: dict[str, bool]) -> bool:\n",
    "    \"\"\"Checks the existence of a model that satisfies the proposition.\"\"\"\n",
    "    \n",
    "    # Replaces logical symbols in the proposition with their Python equivalents\n",
    "    proposition = proposition\\\n",
    "        .replace('∧', ' and ')\\\n",
    "        .replace('¬', ' not ')\\\n",
    "        .replace('∨', ' or ')\\\n",
    "        .replace('↔', ' == ')\n",
    "    # Replaces implication with its logical equivalent: A → B == not A or B\n",
    "    proposition = re.sub(r'(\\w+)\\s*→\\s*(\\w+)', r'not \\1 or \\2', proposition)\n",
    "\n",
    "    # Substitute each variable in the model with its boolean value (True/False)\n",
    "    for var in model:\n",
    "        proposition = proposition.replace(var, str(model[var]))\n",
    "    return eval(proposition)\n",
    "\n",
    "def extract_symbols(proposition: str) -> list[str]:\n",
    "    \"\"\"Extracts unique logical symbols from the proposition.\"\"\"\n",
    "    \n",
    "    # Finds all variable symbols that match the pattern (e.g., B21, P22)\n",
    "    symbols = re.findall(r'\\b[A-Za-z]+\\d+\\b', proposition)\n",
    "    \n",
    "    # Returns a list of unique symbols\n",
    "    return list(set(symbols))\n",
    "\n",
    "def build_models(symbols: list[str]) -> dict[str, bool]:\n",
    "    \"\"\"Builds all possible models of True/False combinations for the given symbols.\"\"\"\n",
    "    \n",
    "    def generate_combinations(symbols, current_model, index, models):\n",
    "        \"\"\"Recursively generates combinations of True/False for the symbols.\"\"\"\n",
    "        \n",
    "        if index == len(symbols):  # Base case: when all symbols have been assigned\n",
    "            return models.append(current_model.copy())\n",
    "            \n",
    "        # Assign True to the current symbol and recurse\n",
    "        current_model[symbols[index]] = True\n",
    "        generate_combinations(symbols, current_model, index + 1, models)\n",
    "        # Assign False to the current symbol and recurse\n",
    "        current_model[symbols[index]] = False\n",
    "        generate_combinations(symbols, current_model, index + 1, models)\n",
    "\n",
    "    \n",
    "    # Start generating combinations with an empty current model\n",
    "    models = []\n",
    "    generate_combinations(symbols, {}, 0, models)\n",
    "    return models\n",
    "\n",
    "proposition = '(B21 ∨ ¬P22)'  \n",
    "\n",
    "# Extract symbols from the proposition\n",
    "symbols = extract_symbols(proposition)\n",
    "models = build_models(symbols)\n",
    "\n",
    "for model in models:\n",
    "    satisfiable = is_satisfiable(proposition, model)  # Check if the model satisfies the proposition\n",
    "    print(f\"El modelo {model} es satisfacible: {satisfiable} para un alpha {proposition}\")\n"
   ]
  }
 ],
 "metadata": {
  "kernelspec": {
   "display_name": "base",
   "language": "python",
   "name": "python3"
  },
  "language_info": {
   "codemirror_mode": {
    "name": "ipython",
    "version": 3
   },
   "file_extension": ".py",
   "mimetype": "text/x-python",
   "name": "python",
   "nbconvert_exporter": "python",
   "pygments_lexer": "ipython3",
   "version": "3.12.2"
  }
 },
 "nbformat": 4,
 "nbformat_minor": 2
}
